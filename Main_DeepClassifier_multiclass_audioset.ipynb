{
 "cells": [
  {
   "cell_type": "markdown",
   "metadata": {},
   "source": [
    "# Info\n",
    "This is supposed to be a proposal for the gender-violence project at UC3M. The initial idea is to implement a prototype model in order to check that the feature extraction procedure as well as the training methodology works, so later on more classes can be used. Notice that this will be a multi-class and multi-label problem.\n",
    "\n",
    "The dataset is a subset from Audioset, from which we selected and downloaded files from two different classes:  `speech` and `music`. Later on, a more significant number of classes related with the task at hand are to be implemented using this notebook.\n",
    "\n",
    "In order to keep the notebook cleaner, models are stored in the file `Audioset_models.py`.\n",
    "\n",
    "WARNING: This is a work in progress.\n",
    "\n",
    "* Resnet proposals: https://arxiv.org/pdf/1603.05027.pdf"
   ]
  },
  {
   "cell_type": "markdown",
   "metadata": {},
   "source": [
    "# Imports"
   ]
  },
  {
   "cell_type": "code",
   "execution_count": 1,
   "metadata": {
    "scrolled": true
   },
   "outputs": [
    {
     "name": "stderr",
     "output_type": "stream",
     "text": [
      "Using TensorFlow backend.\n",
      "/run/media/arodriguez/BIG/anaconda2/envs/deep_py3/lib/python3.7/site-packages/tensorflow/python/framework/dtypes.py:526: FutureWarning: Passing (type, 1) or '1type' as a synonym of type is deprecated; in a future version of numpy, it will be understood as (type, (1,)) / '(1,)type'.\n",
      "  _np_qint8 = np.dtype([(\"qint8\", np.int8, 1)])\n",
      "/run/media/arodriguez/BIG/anaconda2/envs/deep_py3/lib/python3.7/site-packages/tensorflow/python/framework/dtypes.py:527: FutureWarning: Passing (type, 1) or '1type' as a synonym of type is deprecated; in a future version of numpy, it will be understood as (type, (1,)) / '(1,)type'.\n",
      "  _np_quint8 = np.dtype([(\"quint8\", np.uint8, 1)])\n",
      "/run/media/arodriguez/BIG/anaconda2/envs/deep_py3/lib/python3.7/site-packages/tensorflow/python/framework/dtypes.py:528: FutureWarning: Passing (type, 1) or '1type' as a synonym of type is deprecated; in a future version of numpy, it will be understood as (type, (1,)) / '(1,)type'.\n",
      "  _np_qint16 = np.dtype([(\"qint16\", np.int16, 1)])\n",
      "/run/media/arodriguez/BIG/anaconda2/envs/deep_py3/lib/python3.7/site-packages/tensorflow/python/framework/dtypes.py:529: FutureWarning: Passing (type, 1) or '1type' as a synonym of type is deprecated; in a future version of numpy, it will be understood as (type, (1,)) / '(1,)type'.\n",
      "  _np_quint16 = np.dtype([(\"quint16\", np.uint16, 1)])\n",
      "/run/media/arodriguez/BIG/anaconda2/envs/deep_py3/lib/python3.7/site-packages/tensorflow/python/framework/dtypes.py:530: FutureWarning: Passing (type, 1) or '1type' as a synonym of type is deprecated; in a future version of numpy, it will be understood as (type, (1,)) / '(1,)type'.\n",
      "  _np_qint32 = np.dtype([(\"qint32\", np.int32, 1)])\n",
      "/run/media/arodriguez/BIG/anaconda2/envs/deep_py3/lib/python3.7/site-packages/tensorflow/python/framework/dtypes.py:535: FutureWarning: Passing (type, 1) or '1type' as a synonym of type is deprecated; in a future version of numpy, it will be understood as (type, (1,)) / '(1,)type'.\n",
      "  np_resource = np.dtype([(\"resource\", np.ubyte, 1)])\n"
     ]
    }
   ],
   "source": [
    "path = '.'\n",
    "feature_path = 'features';\n",
    "TAG = 'multiclass_audioset' # Set this up in order to use the Audioset dataset with only two labels: {'speech','music'}\n",
    "write_features = False;\n",
    "\n",
    "# One hot encoding de las clases anteriores\n",
    "from numpy import array\n",
    "from numpy import argmax\n",
    "from sklearn.preprocessing import LabelEncoder\n",
    "from sklearn.preprocessing import OneHotEncoder\n",
    "from librosa.feature import  melspectrogram\n",
    "from librosa.display import specshow\n",
    "import matplotlib.pyplot as plt\n",
    "import h5py, time\n",
    "from sklearn.model_selection import train_test_split\n",
    "import numpy as np\n",
    "import os, random,datetime, librosa\n",
    "from keras.callbacks import TensorBoard, ModelCheckpoint,LearningRateScheduler\n",
    "from keras.optimizers import Adam, SGD\n",
    "from keras.utils import plot_model\n",
    "import csv, sys"
   ]
  },
  {
   "cell_type": "markdown",
   "metadata": {},
   "source": [
    "# Feature extraction"
   ]
  },
  {
   "cell_type": "code",
   "execution_count": 2,
   "metadata": {},
   "outputs": [],
   "source": [
    "from libraries.welford import Welford\n",
    "def ScaleData(S_matrix, verbose = False):\n",
    "    '''\n",
    "    Function designed to scale a spectrogram-like signal considering each frequency bin\n",
    "    independently. The scaling is the z-score, and mean and average are computed using\n",
    "    the Welford's algorithm.\n",
    "    \n",
    "    The code from Welford's is the one designed by: \n",
    "    https://gist.github.com/alexalemi/2151722\n",
    "    '''\n",
    "    ave = np.zeros(S_matrix.shape)\n",
    "    stdev =np.zeros(S_matrix.shape)\n",
    "    for f in range(S_matrix.shape[0]):\n",
    "        '''\n",
    "        We compute the moving average and std for each frequency bin. The idea is that this\n",
    "        procedure should be performed with signals in real scenarios for normalization \n",
    "        purposes, and consequently we perform those independently for each of the files,\n",
    "        both from train and test.\n",
    "        '''\n",
    "        runner = Welford();\n",
    "        for t in range(S_matrix.shape[1]):\n",
    "            runner(S_matrix[f,t])\n",
    "            ave[f,t] = runner.mean;\n",
    "            stdev[f,t] = runner.std;\n",
    "            if t == 0:\n",
    "                ave[f,t] = runner.mean;\n",
    "                stdev[f,t] = 1;\n",
    "\n",
    "        del runner\n",
    "\n",
    "    if verbose == True:\n",
    "        plt.figure(figsize=(15,10))\n",
    "        plt.subplot(221)\n",
    "        plt.imshow(S_matrix)\n",
    "        plt.colorbar()\n",
    "        plt.title('Original')\n",
    "        plt.subplot(222)\n",
    "        plt.imshow((S_matrix-ave)/stdev)\n",
    "        plt.colorbar()\n",
    "        plt.title('Scaled')\n",
    "        plt.subplot(223)\n",
    "        plt.imshow(ave)\n",
    "        plt.colorbar()\n",
    "        plt.title('Moving average (f)')\n",
    "        plt.subplot(224)\n",
    "        plt.imshow(stdev)\n",
    "        plt.colorbar()\n",
    "        plt.title('Moving std (f)')\n",
    "    return (S_matrix-ave+1e-30)/(stdev+1e-30);\n",
    "\n",
    "\n",
    "\n",
    "maxInt = sys.maxsize\n",
    "while True:\n",
    "    # This line is used to avoid overflow size in the system.\n",
    "    # https://stackoverflow.com/questions/15063936/csv-error-field-larger-than-field-limit-131072\n",
    "    try:\n",
    "        csv.field_size_limit(maxInt)\n",
    "        break\n",
    "    except OverflowError:\n",
    "        maxInt = int(maxInt/10)\n",
    "        \n"
   ]
  },
  {
   "cell_type": "code",
   "execution_count": null,
   "metadata": {},
   "outputs": [],
   "source": []
  },
  {
   "cell_type": "markdown",
   "metadata": {},
   "source": [
    "## Dataset\n",
    "In the section below we extract features directly from audio files. The selected features are the Log-Mel energy bands, computed using temporal windows with a duration of `20ms` and and overlapping factor of `50%`. Since we expect that the volume of data for the final project does not fit memory, we extract features and write them in hdf5 files."
   ]
  },
  {
   "cell_type": "code",
   "execution_count": 3,
   "metadata": {
    "scrolled": true
   },
   "outputs": [],
   "source": [
    "win = 100; # Window length for Mel-spectrogram in ms.\n",
    "win_length = win*1e-3; # Standard: 100ms.\n",
    "hop_length = win_length*.5; # 50% overlapping\n",
    "\n",
    "if TAG == 'multiclass_audioset':\n",
    "    datapath = './audios_{0}'.format(TAG); \n",
    "    h5_path = os.path.join(feature_path,'Features_normalized_{}_win{}.h5'.format(TAG,win));\n",
    "    # Load the AudioSet training set\n",
    "    with open('data/downloaded_videos_{0}.csv'.format(TAG)) as f:\n",
    "        lines = f.readlines()\n",
    "    X = [line.strip().replace(',','').split('**')[0] for line in lines]\n",
    "    \n",
    "\n",
    "\n",
    "counter = 0;\n",
    "n_mel = 64;\n",
    "start = time.time();\n",
    "unprocessable = [];\n",
    "if write_features == True:\n",
    "    hf = h5py.File(h5_path,'w');\n",
    "    \n",
    "    for filename in X:\n",
    "        try:\n",
    "            data_aux, fs = librosa.load(os.path.join(datapath, filename.replace('_0000_','_0_')+'.flac'))\n",
    "\n",
    "            data_aux = librosa.effects.preemphasis(data_aux)\n",
    "            S = melspectrogram(data_aux, sr = fs, \n",
    "                               n_fft = int(2**np.ceil(np.log2(abs(win_length*fs)))), \n",
    "                               n_mels = n_mel,\n",
    "                               hop_length = int(hop_length*fs),\n",
    "                               win_length = int(win_length*fs),\n",
    "                               htk=True\n",
    "                              )\n",
    "\n",
    "            power = np.mean(S, axis =0);\n",
    "            S = librosa.power_to_db(S);\n",
    "            # We cut the last second of audio in order to have the same size in every Mel spectrogram\n",
    "            S = S[:,:int(fs*9/(hop_length*fs)+1)];\n",
    "            power = power[:int(fs*9/(hop_length*fs)+1)]\n",
    "            S = ScaleData(S)\n",
    "            hf.create_dataset(filename+'-spec', data=S);\n",
    "            counter+=1;\n",
    "\n",
    "            if counter%100 == 0:\n",
    "                end = time.time();\n",
    "                print('Files processed: {0}. Elapsed T(s): {1}. T per file(s): {2}'.format(counter, (end-start), (end-start)/counter))\n",
    "        except:\n",
    "            unprocessable.append(filename.replace('_0000_','_0_'))\n",
    "            \n",
    "    hf.close()\n",
    "    print('Done extracting features')\n"
   ]
  },
  {
   "cell_type": "code",
   "execution_count": 4,
   "metadata": {},
   "outputs": [],
   "source": [
    "#available_files = [i for i in X if i+'-spec' in hf];"
   ]
  },
  {
   "cell_type": "code",
   "execution_count": null,
   "metadata": {},
   "outputs": [],
   "source": []
  },
  {
   "cell_type": "code",
   "execution_count": 5,
   "metadata": {},
   "outputs": [],
   "source": [
    "# There are some audio files whose duration is inferior to 9 seconds (the limit we stated before)\n",
    "# We detect them and remove them.\n",
    "hf = h5py.File(h5_path, 'r')\n",
    "exception_data = [];\n",
    "\n",
    "for i in hf.keys():\n",
    "    if (len(hf[i].shape) == 2):\n",
    "        if  ((hf[i].shape[0] in [64])==False) | ((hf[i].shape[1] in [181, 901]) == False):\n",
    "            exception_data.append(i.replace('-spec',''))\n",
    "# hf.close()\n",
    "# We discard some data that we checked manually beforehand\n",
    "f = open(\"Descartes.txt\", \"r\")\n",
    "for i in f.readlines():\n",
    "    exception_data.append(i.replace('\\n',''))\n",
    "f.close()\n"
   ]
  },
  {
   "cell_type": "markdown",
   "metadata": {},
   "source": [
    "The train-test split is applied in a stratified manner, so every class has a similar number of files both during train and test. It is important to take into consideration that our split is done considering the name of the files, since as we mentioned before our features are not stored directly on RAM but instead on hdf5 files to be read later with a generator."
   ]
  },
  {
   "cell_type": "code",
   "execution_count": 6,
   "metadata": {},
   "outputs": [],
   "source": [
    "X_starters = [line.strip().replace(',','').split('**')[0] for line in lines \n",
    "            if (line.strip().replace(',','').split('**')[0] in exception_data) == False]\n",
    "# y = [[int(number) for number in line.strip().replace(',','').split('**')[1].replace(' ','')] for line in lines\n",
    "#            if (line.strip().replace(',','').split('**')[0] in exception_data) == False]\n",
    "\n",
    "y_dict = {}\n",
    "for line in lines:\n",
    "    if (line.strip().replace(',','').split('**')[0] in exception_data) == False:\n",
    "        y_dict[line.strip().replace(',','').split('**')[0]] = [int(number) for number in line.strip().replace(',','').split('**')[1].replace(' ','')] ;\n",
    "\n",
    "X = [i.replace('-spec','') for i in hf if i.replace('-spec','') in X_starters]#len(X)-len(hf)\n",
    "y = [y_dict[i] for i in X];\n",
    "del X_starters"
   ]
  },
  {
   "cell_type": "code",
   "execution_count": null,
   "metadata": {},
   "outputs": [],
   "source": []
  },
  {
   "cell_type": "code",
   "execution_count": null,
   "metadata": {},
   "outputs": [],
   "source": []
  },
  {
   "cell_type": "code",
   "execution_count": 7,
   "metadata": {},
   "outputs": [
    {
     "data": {
      "image/png": "[encoded data removed]",
      "text/plain": [
       "<Figure size 432x288 with 2 Axes>"
      ]
     },
     "metadata": {
      "needs_background": "light"
     },
     "output_type": "display_data"
    }
   ],
   "source": [
    "# Check class distribution\n",
    "plt.subplot(211)\n",
    "x_axis = range(len(y[0]))\n",
    "plt.bar(x_axis,np.sum(y,axis=0))\n",
    "plt.subplot(212)\n",
    "k = 300; # K-ORIGINAL\n",
    "soft = lambda x: np.exp(k*x)/np.sum(np.exp(k*x))\n",
    "importance_w = soft(1/np.sum(y, axis=0));\n",
    "plt.bar(x_axis,importance_w);\n",
    "\n",
    "y_map = np.eye(len(y[0]))\n",
    "importance_vector = [np.dot(i,importance_w) for i in y]"
   ]
  },
  {
   "cell_type": "code",
   "execution_count": null,
   "metadata": {},
   "outputs": [],
   "source": []
  },
  {
   "cell_type": "code",
   "execution_count": null,
   "metadata": {},
   "outputs": [],
   "source": []
  },
  {
   "cell_type": "code",
   "execution_count": 8,
   "metadata": {},
   "outputs": [
    {
     "name": "stdout",
     "output_type": "stream",
     "text": [
      "Class 10. Train:10792\n",
      "Class 01. Train:5060\n",
      "Class 11. Train:399\n"
     ]
    }
   ],
   "source": [
    "\n",
    "perc_test = .1;\n",
    "# Conjunto de test estratificado.\n",
    "#X_train_split, X_test_split, y_train_split, y_test_split = train_test_split(X, y, \n",
    "#                               test_size = perc_test, \n",
    "#                                random_state = 1492, \n",
    "#                                shuffle = True,\n",
    "#                               );\n",
    "\n",
    "i_train_split, i_test_split= train_test_split(range(len(y)),\n",
    "                               test_size = perc_test, \n",
    "                               random_state = 1492, \n",
    "                               shuffle = True,\n",
    "                               );\n",
    "\n",
    "X_train_split = [X[i] for i in i_train_split];\n",
    "y_train_split = [y[i] for i in i_train_split];\n",
    "importance_train_split = [importance_vector[i] for i in i_train_split];\n",
    "\n",
    "X_test_split = [X[i] for i in i_test_split];\n",
    "y_test_split = [y[i] for i in i_test_split];\n",
    "importance_test_split = [importance_vector[i] for i in i_test_split];\n",
    "\n",
    "\n",
    "\n",
    "\n",
    "n_train_total = 0;\n",
    "n_test_total = 0;\n",
    "\n",
    "n_train = np.sum(y_train_split, axis = 0)\n",
    "n_test = np.sum(y_test_split, axis=0)\n",
    "n_train_dual = np.sum([np.sum(i) > 1 for i in y_train_split])\n",
    "n_test_dual = np.sum([np.sum(i) > 1 for i in y_test_split])\n",
    "\n",
    "n_cl10 = len([i for i in y_train_split if (i[0] == 1) & (i[1] == 0)])\n",
    "n_cl11 = len([i for i in y_train_split if (i[0] == 1) & (i[1] == 1)])\n",
    "n_cl01 = len([i for i in y_train_split if (i[0] == 0) & (i[1] == 1)])\n",
    "\n",
    "print('Class 10. Train:{0}'.format(n_cl10))\n",
    "print('Class 01. Train:{0}'.format(n_cl01))\n",
    "print('Class 11. Train:{0}'.format(n_cl11))\n"
   ]
  },
  {
   "cell_type": "code",
   "execution_count": null,
   "metadata": {},
   "outputs": [],
   "source": [
    "\n"
   ]
  },
  {
   "cell_type": "markdown",
   "metadata": {},
   "source": [
    "# Preparing data for training\n",
    "In the cell below the generator that reads every feature file is depicted. It essentialy reads random batches of files, which are prepared to be fed into a neural network. Consider that the structure of the models proposed here is: `(batch_elements, time_index, freq_index)`."
   ]
  },
  {
   "cell_type": "code",
   "execution_count": 9,
   "metadata": {},
   "outputs": [],
   "source": [
    "'''\n",
    "If using generators is the preferred option, this code will produce a generator function \n",
    "that will be used afterwards by the fit_generator function.\n",
    "'''\n",
    "            \n",
    "def generate_arrays_from_file(h5_file, x_list, y_list, batch_size):\n",
    "    seed = 1492;\n",
    "    while True:\n",
    "        random.seed(seed)\n",
    "        data_list = [(i,j) for i,j in zip(x_list, y_list)];\n",
    "        data_list_rand = random.sample(data_list,len(data_list));\n",
    "        for i in np.arange(0,len(data_list_rand),batch_size):\n",
    "            x_aux = [np.expand_dims(h5_file[data_list_rand[j][0]+'-spec'],axis=2) for j in np.arange(i, np.min([i+batch_size, len(data_list_rand)]))]\n",
    "            x_aux = np.concatenate(x_aux, axis=2)\n",
    "            \n",
    "            y_aux = [np.expand_dims(data_list_rand[j][1],axis=2) for j in np.arange(i, np.min([i+batch_size, len(data_list_rand)]))]\n",
    "            y_aux = np.concatenate(y_aux, axis = 1)\n",
    "            \n",
    "\n",
    "            x = np.transpose(x_aux, [2,1,0])\n",
    "            y = np.transpose(y_aux, [1,0]);\n",
    "            try:\n",
    "                yield (x,y)\n",
    "            except StopIteration:\n",
    "                return    \n",
    "        seed+=100;\n",
    "# hf = h5py.File(h5_path, 'r')\n",
    "# x_batch, y_batch = generate_arrays_from_file(hf, X_train_split, y_train_split,4)\n",
    "\n",
    "\n",
    "\n",
    "def time_decay(epoch, lr):\n",
    "    if epoch == 10000:\n",
    "        return lr/10;\n",
    "    elif epoch == 10000:\n",
    "        return lr/10;\n",
    "    else:\n",
    "        return lr"
   ]
  },
  {
   "cell_type": "markdown",
   "metadata": {},
   "source": [
    "Here I show the structure that was proposed originally for the project, although further progress might have been done in the last years.\n",
    "\n",
    "It is a simple model where 1D-convolutional layers with identity connections are connected (two blocks), considering that each element is batch-normalized in order accelerate training. Notice as well that Dropout is included in order to help with regularization, since for this first approach a relatively small number of audio files has been used (near 10000 files). Different blocks are connected using maxpooling, and in the end the structure is flattened in order to be fed into a 2-layer dense network. The output of this dense network uses two sigmoid units, which should cope with the our multi-label dataset.\n",
    "\n",
    "I expected this model to be trained with a much bigger number of files, since the Audioset dataset is huge. Consequently, it was originally designed to be magnified considering more residual blocks such as the two depicted in the plot.\n",
    "\n"
   ]
  },
  {
   "cell_type": "code",
   "execution_count": 10,
   "metadata": {},
   "outputs": [],
   "source": [
    "# def model_import_custom(ind, n_filters, input_shape,output_shape = 2, n_seed=15000321):\n",
    "#     from keras.models import Model, load_model\n",
    "#     from keras.layers import CuDNNGRU, Input, Dense, BatchNormalization, Activation, TimeDistributed\n",
    "#     import keras.backend as K\n",
    "#     import numpy as np\n",
    "#     from keras_attention.models.custom_recurrents import AttentionDecoder\n",
    "#     from keras.layers.wrappers import Bidirectional\n",
    "    \n",
    "\n",
    "#     x_in = Input(shape = (input_shape[0],input_shape[1]), name='in_signal');             \n",
    "#     x = Bidirectional(CuDNNGRU(n_filters, return_sequences=True, name='encoder'))(x_in)\n",
    "#     x = BatchNormalization()(x)\n",
    "#     x_attention = AttentionDecoder(int(n_filters/2), input_shape[1],name='out_main')(x)\n",
    "        \n",
    "#     model_CNN = load_model('logs/Gen_CNN_MULTI-2020-05-05_13.27.04.380845/Gen_CNN.h5')\n",
    "#     # We freeze the weights of the CNN model.\n",
    "#     for i in model_CNN.layers:\n",
    "#         i.trainable = False;\n",
    "#     #x = model_CNN()(x_attention)\n",
    "#     x = model_CNN(inputs = x_attention)\n",
    "        \n",
    "#     model = Model(inputs=x_in, outputs=x)\n",
    "#     model.summary()\n",
    "\n",
    "\n",
    "# model_import_custom('Gen_Attention',64, [10,64])"
   ]
  },
  {
   "cell_type": "code",
   "execution_count": 11,
   "metadata": {
    "scrolled": false
   },
   "outputs": [
    {
     "name": "stdout",
     "output_type": "stream",
     "text": [
      "WARNING:tensorflow:From /run/media/arodriguez/BIG/anaconda2/envs/deep_py3/lib/python3.7/site-packages/tensorflow/python/framework/op_def_library.py:263: colocate_with (from tensorflow.python.framework.ops) is deprecated and will be removed in a future version.\n",
      "Instructions for updating:\n",
      "Colocations handled automatically by placer.\n",
      "WARNING:tensorflow:From /home/arodriguez/.local/lib/python3.7/site-packages/keras/backend/tensorflow_backend.py:3144: calling dropout (from tensorflow.python.ops.nn_ops) with keep_prob is deprecated and will be removed in a future version.\n",
      "Instructions for updating:\n",
      "Please use `rate` instead of `keep_prob`. Rate should be set to `rate = 1 - keep_prob`.\n",
      "WARNING:tensorflow:From /run/media/arodriguez/BIG/anaconda2/envs/deep_py3/lib/python3.7/site-packages/tensorflow/python/ops/math_ops.py:3066: to_int32 (from tensorflow.python.ops.math_ops) is deprecated and will be removed in a future version.\n",
      "Instructions for updating:\n",
      "Use tf.cast instead.\n"
     ]
    },
    {
     "data": {
      "image/png": "[encoded data removed]",
      "text/plain": [
       "<IPython.core.display.Image object>"
      ]
     },
     "execution_count": 11,
     "metadata": {
      "image/png": {
       "height": 424,
       "width": 284
      }
     },
     "output_type": "execute_result"
    }
   ],
   "source": [
    "fs = 22050;\n",
    "t_axis = int(9/hop_length)+1; # Number of temporal frames. Consdier that we keep only 9 seconds of audio for each file.\n",
    "input_shape = (t_axis, n_mel);\n",
    "\n",
    "model_name = 'Pre_feature_singleLSTM_BIG'\n",
    "from Audioset_models import model_import\n",
    "plot_model(model_import(model_name,64, input_shape,output_shape=17),show_shapes=True, show_layer_names=True, to_file='{}_MULTI.png'.format(model_name))\n",
    "from IPython.display import Image\n",
    "Image(retina=True, filename='{}_MULTI.png'.format(model_name))"
   ]
  },
  {
   "cell_type": "markdown",
   "metadata": {},
   "source": [
    "# Training"
   ]
  },
  {
   "cell_type": "markdown",
   "metadata": {},
   "source": [
    "Here is the code for training a model.The structure allows to select between different models, which shall be stored int he file `Audioset_models.py`. These models are selected using the `ind_mod` variable, which allows to program this notebook so we can train several models in a consecutive way. However, this has not been necessary yet so there are improvements that need to be implemented here.\n",
    "\n",
    "With `epoch_init` the code is initialized for the first epoch, which means that several aspects are created:\n",
    "* The model is created and compiled.\n",
    "* Learning rate is adjusted.\n",
    "* The folder to store the Tensorboard outcome and metadata is created.\n",
    "* Callbacks for themodel are initialized.\n",
    "\n",
    "Afterwards, the model is trained using a generator that reads batches of random feature files. Once the model is trained, it is stored as well as its metadata for further analysis.\n",
    "\n",
    "Notice that this implementation is programmed so it works when we stop the model and restart at the same epoch.\n",
    "\n",
    "The model is supposed to be trained  using Adam during a significant number of epochs. The batch size should be adjusted in order to minimize strong deviations in the loss-curve. The selected loss is `binary_crossentropy`, which shall compliment the two output sigmoid units."
   ]
  },
  {
   "cell_type": "code",
   "execution_count": null,
   "metadata": {
    "scrolled": true
   },
   "outputs": [
    {
     "name": "stderr",
     "output_type": "stream",
     "text": [
      "/run/media/arodriguez/BIG/anaconda2/envs/deep_py3/lib/python3.7/site-packages/ipykernel_launcher.py:16: DeprecationWarning: Both axis > a.ndim and axis < -a.ndim - 1 are deprecated and will raise an AxisError in the future.\n",
      "  app.launch_new_instance()\n"
     ]
    },
    {
     "name": "stdout",
     "output_type": "stream",
     "text": [
      "\n",
      "Epoch 00001: LearningRateScheduler reducing learning rate to 0.10000000149011612.\n",
      "\n",
      "Epoch 00001: val_loss improved from inf to 37373.51167, saving model to ./logs/Gen_Attention_raw_MULTI-2020-05-10_12.08.47.738200/CkPoint.h5\n",
      "\n",
      "Epoch 00002: LearningRateScheduler reducing learning rate to 0.10000000149011612.\n",
      "\n",
      "Epoch 00002: val_loss improved from 37373.51167 to 26267.63273, saving model to ./logs/Gen_Attention_raw_MULTI-2020-05-10_12.08.47.738200/CkPoint.h5\n",
      "\n",
      "Epoch 00003: LearningRateScheduler reducing learning rate to 0.10000000149011612.\n",
      "\n",
      "Epoch 00003: val_loss improved from 26267.63273 to 19193.28805, saving model to ./logs/Gen_Attention_raw_MULTI-2020-05-10_12.08.47.738200/CkPoint.h5\n",
      "\n",
      "Epoch 00004: LearningRateScheduler reducing learning rate to 0.10000000149011612.\n",
      "\n",
      "Epoch 00004: val_loss improved from 19193.28805 to 14602.54737, saving model to ./logs/Gen_Attention_raw_MULTI-2020-05-10_12.08.47.738200/CkPoint.h5\n",
      "\n",
      "Epoch 00005: LearningRateScheduler reducing learning rate to 0.10000000149011612.\n",
      "\n",
      "Epoch 00005: val_loss improved from 14602.54737 to 11521.83608, saving model to ./logs/Gen_Attention_raw_MULTI-2020-05-10_12.08.47.738200/CkPoint.h5\n",
      "\n",
      "Epoch 00006: LearningRateScheduler reducing learning rate to 0.10000000149011612.\n",
      "\n",
      "Epoch 00006: val_loss improved from 11521.83608 to 9370.96422, saving model to ./logs/Gen_Attention_raw_MULTI-2020-05-10_12.08.47.738200/CkPoint.h5\n",
      "\n",
      "Epoch 00007: LearningRateScheduler reducing learning rate to 0.10000000149011612.\n",
      "\n",
      "Epoch 00007: val_loss improved from 9370.96422 to 7972.38027, saving model to ./logs/Gen_Attention_raw_MULTI-2020-05-10_12.08.47.738200/CkPoint.h5\n",
      "\n",
      "Epoch 00008: LearningRateScheduler reducing learning rate to 0.10000000149011612.\n",
      "\n",
      "Epoch 00008: val_loss improved from 7972.38027 to 6820.53560, saving model to ./logs/Gen_Attention_raw_MULTI-2020-05-10_12.08.47.738200/CkPoint.h5\n",
      "\n",
      "Epoch 00009: LearningRateScheduler reducing learning rate to 0.10000000149011612.\n",
      "\n",
      "Epoch 00009: val_loss improved from 6820.53560 to 5936.81402, saving model to ./logs/Gen_Attention_raw_MULTI-2020-05-10_12.08.47.738200/CkPoint.h5\n",
      "\n",
      "Epoch 00010: LearningRateScheduler reducing learning rate to 0.10000000149011612.\n",
      "\n",
      "Epoch 00010: val_loss improved from 5936.81402 to 5322.92365, saving model to ./logs/Gen_Attention_raw_MULTI-2020-05-10_12.08.47.738200/CkPoint.h5\n",
      "\n",
      "Epoch 00011: LearningRateScheduler reducing learning rate to 0.10000000149011612.\n",
      "\n",
      "Epoch 00011: val_loss improved from 5322.92365 to 4731.61461, saving model to ./logs/Gen_Attention_raw_MULTI-2020-05-10_12.08.47.738200/CkPoint.h5\n",
      "\n",
      "Epoch 00012: LearningRateScheduler reducing learning rate to 0.10000000149011612.\n",
      "\n",
      "Epoch 00012: val_loss improved from 4731.61461 to 4273.82647, saving model to ./logs/Gen_Attention_raw_MULTI-2020-05-10_12.08.47.738200/CkPoint.h5\n",
      "\n",
      "Epoch 00013: LearningRateScheduler reducing learning rate to 0.10000000149011612.\n",
      "\n",
      "Epoch 00013: val_loss improved from 4273.82647 to 3848.84002, saving model to ./logs/Gen_Attention_raw_MULTI-2020-05-10_12.08.47.738200/CkPoint.h5\n",
      "\n",
      "Epoch 00014: LearningRateScheduler reducing learning rate to 0.10000000149011612.\n",
      "\n",
      "Epoch 00014: val_loss improved from 3848.84002 to 3577.98077, saving model to ./logs/Gen_Attention_raw_MULTI-2020-05-10_12.08.47.738200/CkPoint.h5\n",
      "\n",
      "Epoch 00015: LearningRateScheduler reducing learning rate to 0.10000000149011612.\n",
      "\n",
      "Epoch 00015: val_loss improved from 3577.98077 to 3241.22371, saving model to ./logs/Gen_Attention_raw_MULTI-2020-05-10_12.08.47.738200/CkPoint.h5\n",
      "\n",
      "Epoch 00016: LearningRateScheduler reducing learning rate to 0.10000000149011612.\n",
      "\n",
      "Epoch 00016: val_loss improved from 3241.22371 to 3010.42382, saving model to ./logs/Gen_Attention_raw_MULTI-2020-05-10_12.08.47.738200/CkPoint.h5\n",
      "\n",
      "Epoch 00017: LearningRateScheduler reducing learning rate to 0.10000000149011612.\n",
      "\n",
      "Epoch 00017: val_loss improved from 3010.42382 to 2764.06142, saving model to ./logs/Gen_Attention_raw_MULTI-2020-05-10_12.08.47.738200/CkPoint.h5\n",
      "\n",
      "Epoch 00018: LearningRateScheduler reducing learning rate to 0.10000000149011612.\n",
      "\n",
      "Epoch 00018: val_loss improved from 2764.06142 to 2574.76152, saving model to ./logs/Gen_Attention_raw_MULTI-2020-05-10_12.08.47.738200/CkPoint.h5\n",
      "\n",
      "Epoch 00019: LearningRateScheduler reducing learning rate to 0.10000000149011612.\n",
      "\n",
      "Epoch 00019: val_loss improved from 2574.76152 to 2399.86040, saving model to ./logs/Gen_Attention_raw_MULTI-2020-05-10_12.08.47.738200/CkPoint.h5\n",
      "\n",
      "Epoch 00020: LearningRateScheduler reducing learning rate to 0.10000000149011612.\n",
      "\n",
      "Epoch 00020: val_loss improved from 2399.86040 to 2244.43376, saving model to ./logs/Gen_Attention_raw_MULTI-2020-05-10_12.08.47.738200/CkPoint.h5\n",
      "\n",
      "Epoch 00021: LearningRateScheduler reducing learning rate to 0.10000000149011612.\n",
      "\n",
      "Epoch 00021: val_loss improved from 2244.43376 to 2084.49984, saving model to ./logs/Gen_Attention_raw_MULTI-2020-05-10_12.08.47.738200/CkPoint.h5\n",
      "\n",
      "Epoch 00022: LearningRateScheduler reducing learning rate to 0.10000000149011612.\n"
     ]
    }
   ],
   "source": [
    "n_units = 64;\n",
    "n_epochs =600;\n",
    "epoch_init = 0;\n",
    "batch_size = 81*3;\n",
    "n_seed = 1535789;\n",
    "    \n",
    "for ind_mod in [5]:#np.arange(1,5):\n",
    "    if ind_mod == 1:\n",
    "        model_name = 'Gen_CNN';\n",
    "        loss_name = 'binary_crossentropy';\n",
    "        metric_name = 'binary_accuracy';\n",
    "        lr = .01;\n",
    "        clipping = False;\n",
    "        optimizer = Adam(lr = lr) # lr=0.001\n",
    "    if ind_mod == 2:\n",
    "        model_name = 'Gen_Attention';\n",
    "        loss_name = 'binary_crossentropy';\n",
    "        metric_name = 'binary_accuracy';\n",
    "        lr = .1;\n",
    "        clipping = .1;\n",
    "        optimizer = SGD(lr = lr,clipnorm=clipping) # lr=0.001\n",
    "    if ind_mod == 3:\n",
    "        model_name = 'Gen_CNN_small';\n",
    "        loss_name = 'binary_crossentropy';\n",
    "        metric_name = 'binary_accuracy';\n",
    "        lr = .01;\n",
    "        clipping = False;\n",
    "        optimizer = Adam(lr = lr) # lr=0.001\n",
    "    if ind_mod == 4:\n",
    "        model_name = 'Gen_Attention_BIG';\n",
    "        loss_name = 'binary_crossentropy';\n",
    "        metric_name = 'binary_accuracy';\n",
    "        lr = .1;\n",
    "        clipping = .1;\n",
    "        optimizer = SGD(lr = lr,clipnorm=clipping) # lr=0.001\n",
    "    if ind_mod == 5:      \n",
    "        model_name = 'Gen_Attention_raw';\n",
    "        loss_name = 'binary_crossentropy';\n",
    "        metric_name = 'binary_accuracy';\n",
    "        lr = .1;\n",
    "        clipping = .1;\n",
    "        optimizer = SGD(lr = lr,clipnorm=clipping) # lr=0.001\n",
    "        reg_l1 = 0.1\n",
    "    if ind_mod == 6:      \n",
    "        model_name = 'Pre_feature_singleLSTM_BIG';\n",
    "        loss_name = 'binary_crossentropy';\n",
    "        metric_name = 'binary_accuracy';\n",
    "        lr = .1;\n",
    "        clipping = .1;\n",
    "        optimizer = SGD(lr = lr,clipnorm=clipping) # lr=0.001\n",
    "        reg_l1 = 0.1\n",
    "    \n",
    "    \n",
    "        \n",
    "    if epoch_init == 0:\n",
    "        model = model_import(model_name, n_units, input_shape,output_shape = len(y[0]), n_seed=n_seed)    \n",
    "        \n",
    "        \n",
    "        model.compile(loss=loss_name, optimizer=optimizer, metrics=[metric_name])\n",
    "        tb_base = model_name+'_MULTI-'+str(datetime.datetime.now()).replace(' ','_').replace(':','.');\n",
    "        os.mkdir(os.path.join('logs',tb_base))\n",
    "\n",
    "        checkpoint = ModelCheckpoint(os.path.join('./logs',tb_base,'CkPoint.h5'), monitor='val_loss', verbose=1, save_best_only=True, mode='min')\n",
    "\n",
    "        lrate = LearningRateScheduler(time_decay,verbose=1)\n",
    "        \n",
    "        \n",
    "    h = model.fit_generator(generate_arrays_from_file(hf, X_train_split, y_train_split, batch_size),\n",
    "                        steps_per_epoch = len(X_train_split)/batch_size,\n",
    "                        epochs = n_epochs,\n",
    "                        validation_data = generate_arrays_from_file(hf, X_test_split, y_test_split, batch_size),\n",
    "                        validation_steps = len(X_test_split)/batch_size,\n",
    "                        callbacks=[TensorBoard(log_dir=os.path.join('./logs',tb_base)),\n",
    "                                   checkpoint,\n",
    "                                   lrate\n",
    "                                  ],\n",
    "                        initial_epoch = epoch_init,\n",
    "                        verbose = 0,\n",
    "                        class_weight = importance_w\n",
    "                       )\n",
    "\n",
    "\n",
    "    model.save(os.path.join('logs',tb_base,model_name+'.h5'))\n",
    "\n",
    "\n",
    "\n",
    "    metadata = [{'model_name': model_name,\n",
    "            'n_epochs': n_epochs,\n",
    "            'batch_size': batch_size,\n",
    "            'optimizer': optimizer,\n",
    "            'opt_lr': lr,\n",
    "            'n_mel': n_mel,\n",
    "            'n_units': n_units,\n",
    "            'K': k,\n",
    "            'clipnorm':clipping,\n",
    "             'reg_l1': reg_l1\n",
    "                }]\n",
    "\n",
    "    csv_file = os.path.join('logs',tb_base,'metadata.csv')\n",
    "    import csv\n",
    "    with open(csv_file, 'w') as csvdoc:    \n",
    "        writer = csv.DictWriter(csvdoc, fieldnames=metadata[0].keys())\n",
    "        writer.writeheader()\n",
    "        for i in metadata:\n",
    "            print(i)\n",
    "            writer.writerow(i)"
   ]
  },
  {
   "cell_type": "code",
   "execution_count": null,
   "metadata": {},
   "outputs": [],
   "source": [
    "model.layers[1].get_weights()"
   ]
  },
  {
   "cell_type": "code",
   "execution_count": null,
   "metadata": {},
   "outputs": [],
   "source": [
    "#y_pred = model.predict_generator(generate_arrays_from_file(hf, X_test_split, y_test_split, batch_size), steps= len(X_test_split)/batch_size);\n",
    "X_test_split\n",
    "j = 1;\n",
    "x_partial = [np.expand_dims(hf[filename+'-spec'],axis=2) for filename in X_test_split]\n",
    "x_pred = np.transpose(np.concatenate(x_partial, axis=2), [2,1,0]);\n",
    "# y_pred = model.predict(x_pred)\n",
    "\n",
    "from keras.models import Model\n",
    "model_features = Model(inputs = model.layers[0].input, outputs = model.layers[1].output)\n",
    "\n",
    "y_features = model_features.predict(x_pred)       "
   ]
  },
  {
   "cell_type": "code",
   "execution_count": null,
   "metadata": {},
   "outputs": [],
   "source": [
    "ind = 16\n",
    "plt.figure(figsize=(10,10))\n",
    "plt.subplot(211)\n",
    "plt.imshow(y_features[ind, :,:].T)\n",
    "plt.colorbar()\n",
    "plt.subplot(212)\n",
    "plt.imshow(x_pred[ind,:,:].T)\n",
    "plt.colorbar()\n",
    "x_pred.shape"
   ]
  },
  {
   "cell_type": "code",
   "execution_count": null,
   "metadata": {},
   "outputs": [],
   "source": [
    "from sklearn.metrics import roc_auc_score\n",
    "roc_results = {};\n",
    "y_true = np.array(y_test_split);\n",
    "for i_class in range(y_pred.shape[1]):\n",
    "    roc_results[i_class] = roc_auc_score(y_true[:,i_class], y_pred[:,i_class])\n",
    "    \n",
    "roc_results"
   ]
  },
  {
   "cell_type": "code",
   "execution_count": null,
   "metadata": {},
   "outputs": [],
   "source": [
    "plt.subplot(311)\n",
    "x_axis = range(len(y[0]))\n",
    "plt.bar(x_axis,np.sum(y,axis=0))\n",
    "plt.subplot(312)\n",
    "plt.bar(x_axis,importance_w);\n",
    "plt.subplot(313)\n",
    "plt.bar(x_axis,roc_results.values())\n",
    "plt.ylim([.74,1])"
   ]
  },
  {
   "cell_type": "code",
   "execution_count": null,
   "metadata": {},
   "outputs": [],
   "source": [
    "plt.figure(figsize=(15,10))\n",
    "plt.subplot(211)\n",
    "plt.plot(h.history['val_loss'], label='test',linewidth=3)\n",
    "plt.plot(h.history['loss'], label='train',linewidth=3)\n",
    "plt.title('Binary cross-entropy');\n",
    "plt.grid()\n",
    "plt.legend()\n",
    "\n",
    "plt.subplot(212)\n",
    "plt.plot(h.history['val_binary_accuracy'], label='test',linewidth=3)\n",
    "plt.plot(h.history['binary_accuracy'], label='train',linewidth=3)\n",
    "plt.title('Accuracy')\n",
    "plt.grid();\n",
    "plt.legend();"
   ]
  }
 ],
 "metadata": {
  "kernelspec": {
   "display_name": "Python 3",
   "language": "python",
   "name": "python3"
  },
  "language_info": {
   "codemirror_mode": {
    "name": "ipython",
    "version": 3
   },
   "file_extension": ".py",
   "mimetype": "text/x-python",
   "name": "python",
   "nbconvert_exporter": "python",
   "pygments_lexer": "ipython3",
   "version": "3.6.9"
  }
 },
 "nbformat": 4,
 "nbformat_minor": 2
}
